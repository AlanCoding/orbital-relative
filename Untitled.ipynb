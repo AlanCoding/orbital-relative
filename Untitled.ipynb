{
 "cells": [
  {
   "cell_type": "markdown",
   "metadata": {},
   "source": [
    "### Orbital Relative Sheet (draft)\n",
    "Technical description of what this is:\n",
    "Implement the [Clohessy–Wiltshire equations](https://en.wikipedia.org/w/index.php?title=Clohessy–Wiltshire_equations) via the `scipy.integrate.solve_ivp` utility. In other words, this does an time-domain ODE solve with SciPy for a neighborhood of co-orbiting points (rotating reference frame)."
   ]
  },
  {
   "cell_type": "code",
   "execution_count": null,
   "metadata": {},
   "outputs": [],
   "source": []
  },
  {
   "cell_type": "code",
   "execution_count": null,
   "metadata": {},
   "outputs": [],
   "source": []
  },
  {
   "cell_type": "code",
   "execution_count": 2,
   "metadata": {},
   "outputs": [],
   "source": [
    "# constants\n",
    "mu = 3.986e14 # m3/s2\n",
    "n = 0.00113 # seconds"
   ]
  },
  {
   "cell_type": "code",
   "execution_count": 4,
   "metadata": {},
   "outputs": [],
   "source": [
    "def f(t, v):\n",
    "    u, udot = v[:2], v[2:]\n",
    "    udd = [0 for i in range(3)]  # 2nd deriv\n",
    "    x = u[0]\n",
    "    y = u[1]\n",
    "    z = u[2]\n",
    "    udd[0] = 3*(n**2)*x + 2*n*udot[1]\n",
    "    udd[1] = -2*n*udot[0]\n",
    "    udd[2] = -(n**2)*z\n",
    "    # what are values for udot???"
   ]
  },
  {
   "cell_type": "code",
   "execution_count": null,
   "metadata": {},
   "outputs": [],
   "source": []
  },
  {
   "cell_type": "code",
   "execution_count": null,
   "metadata": {},
   "outputs": [],
   "source": []
  },
  {
   "cell_type": "code",
   "execution_count": null,
   "metadata": {},
   "outputs": [],
   "source": []
  },
  {
   "cell_type": "code",
   "execution_count": null,
   "metadata": {},
   "outputs": [],
   "source": []
  }
 ],
 "metadata": {
  "kernelspec": {
   "display_name": "Python 3",
   "language": "python",
   "name": "python3"
  },
  "language_info": {
   "codemirror_mode": {
    "name": "ipython",
    "version": 3
   },
   "file_extension": ".py",
   "mimetype": "text/x-python",
   "name": "python",
   "nbconvert_exporter": "python",
   "pygments_lexer": "ipython3",
   "version": "3.6.5"
  }
 },
 "nbformat": 4,
 "nbformat_minor": 2
}

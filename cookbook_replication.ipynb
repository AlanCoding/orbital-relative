{
 "cells": [
  {
   "cell_type": "markdown",
   "metadata": {},
   "source": [
    "### Replication of cookbook simulation\n",
    "this attempts to do https://github.com/ipython-books/cookbook-2nd-code/blob/master/chapter12_deterministic/03_ode.ipynb but with the more modern scipy.integrate.solve_ivp"
   ]
  },
  {
   "cell_type": "code",
   "execution_count": 1,
   "metadata": {},
   "outputs": [],
   "source": [
    "import numpy as np\n",
    "import scipy.integrate  # changed this\n",
    "import matplotlib.pyplot as plt  # almost every imports this way"
   ]
  },
  {
   "cell_type": "code",
   "execution_count": 2,
   "metadata": {},
   "outputs": [],
   "source": [
    "v0 = np.zeros(4)  # The initial position is (0, 0).\n",
    "# The initial speed vector is oriented\n",
    "# to the top right.\n",
    "v0[2] = 4.  # vx??\n",
    "v0[3] = 10.  # vy??\n",
    "# source also defined constants m, g, and k\n",
    "# they should not have defined k because it is an input to f"
   ]
  },
  {
   "cell_type": "code",
   "execution_count": 3,
   "metadata": {},
   "outputs": [],
   "source": [
    "# this will be redefined for subsequent work\n",
    "# old: f(v, t, k)\n",
    "def f(t, v):\n",
    "    # v has four components: v=[u, u'].\n",
    "    u, udot = v[:2], v[2:]  # ah, udot is dx and dy\n",
    "    # We compute the second derivative u'' of u.\n",
    "    udotdot = -f.k / (1.1) * udot  # not really sure\n",
    "    udotdot[1] -= 9.8  # dvy\n",
    "    # output type is changed\n",
    "    # [dx, dy, dvx, dvy]\n",
    "    return [udot[0], udot[1], udotdot[0], udotdot[1]]\n",
    "    # We return v'=[u', u''].\n",
    "    # return np.r_[udot, udotdot]"
   ]
  },
  {
   "cell_type": "code",
   "execution_count": 4,
   "metadata": {},
   "outputs": [
    {
     "name": "stdout",
     "output_type": "stream",
     "text": [
      "[ 0.  0.  4. 10.]\n"
     ]
    }
   ],
   "source": [
    "# printin stuff\n",
    "print(v0)"
   ]
  },
  {
   "cell_type": "code",
   "execution_count": 8,
   "metadata": {},
   "outputs": [
    {
     "data": {
      "text/plain": [
       "(0, 6)"
      ]
     },
     "execution_count": 8,
     "metadata": {},
     "output_type": "execute_result"
    },
    {
     "data": {
      "image/png": "[encoded data removed]",
      "text/plain": [
       "<Figure size 576x288 with 1 Axes>"
      ]
     },
     "metadata": {
      "needs_background": "light"
     },
     "output_type": "display_data"
    }
   ],
   "source": [
    "fig, ax = plt.subplots(1, 1, figsize=(8, 4))\n",
    "\n",
    "# We want to evaluate the system on 30 linearly\n",
    "# spaced times between t=0 and t=3.\n",
    "t = np.linspace(0., 3., 30)  # remember 3., for duration of simulation in seconds\n",
    "\n",
    "# We simulate the system for different values of k.\n",
    "for k in np.linspace(0., 1., 5):\n",
    "    f.k = k  # do what you gotta do\n",
    "    # v = spi.odeint(f, v0, t)\n",
    "    # this simulation was with scipy.integrate.odeint before\n",
    "    v = scipy.integrate.solve_ivp(f, (0., 3.), v0, max_step=0.2)\n",
    "    # v = [list(p) for p in v]  # convert to python list type, it returns a numpy.ndarray\n",
    "    #v = np.ndarray(v)\n",
    "    # We plot the particle's trajectory.\n",
    "    # the dimensions have swapped\n",
    "    ax.plot(v.y[0, :], v.y[1, :], 'o-', mew=1, ms=8, mec='w', label=f'k={k:.1f}')\n",
    "ax.legend()\n",
    "ax.set_xlim(0, 12)\n",
    "ax.set_ylim(0, 6)"
   ]
  },
  {
   "cell_type": "code",
   "execution_count": 38,
   "metadata": {},
   "outputs": [
    {
     "name": "stdout",
     "output_type": "stream",
     "text": [
      "<class 'numpy.ndarray'>\n",
      "30\n",
      "[ 0.  0.  4. 10.]\n"
     ]
    }
   ],
   "source": [
    "# from the old data\n",
    "print(type(v))\n",
    "print(len(v))\n",
    "print(v[0])"
   ]
  },
  {
   "cell_type": "code",
   "execution_count": 52,
   "metadata": {},
   "outputs": [
    {
     "name": "stdout",
     "output_type": "stream",
     "text": [
      "[['t'], ['y'], ['s', 'o', 'l'], ['t', '_', 'e', 'v', 'e', 'n', 't', 's'], ['n', 'f', 'e', 'v'], ['n', 'j', 'e', 'v'], ['n', 'l', 'u'], ['s', 't', 'a', 't', 'u', 's'], ['m', 'e', 's', 's', 'a', 'g', 'e'], ['s', 'u', 'c', 'c', 'e', 's', 's']]\n"
     ]
    }
   ],
   "source": [
    "# new data\n",
    "print([list(p) for p in v])"
   ]
  },
  {
   "cell_type": "code",
   "execution_count": 44,
   "metadata": {},
   "outputs": [
    {
     "data": {
      "text/plain": [
       "numpy.ndarray"
      ]
     },
     "execution_count": 44,
     "metadata": {},
     "output_type": "execute_result"
    }
   ],
   "source": [
    "type(v)"
   ]
  },
  {
   "cell_type": "code",
   "execution_count": 58,
   "metadata": {},
   "outputs": [
    {
     "data": {
      "text/plain": [
       "numpy.ndarray"
      ]
     },
     "execution_count": 58,
     "metadata": {},
     "output_type": "execute_result"
    }
   ],
   "source": [
    "type(v.y)"
   ]
  },
  {
   "cell_type": "code",
   "execution_count": 80,
   "metadata": {},
   "outputs": [
    {
     "data": {
      "text/plain": [
       "  message: 'The solver successfully reached the end of the integration interval.'\n",
       "     nfev: 50\n",
       "     njev: 0\n",
       "      nlu: 0\n",
       "      sol: None\n",
       "   status: 0\n",
       "  success: True\n",
       "        t: array([0.00000000e+00, 1.31283457e-04, 1.44411803e-03, 1.45724637e-02,\n",
       "       1.45855921e-01, 7.93922390e-01, 1.56199366e+00, 2.41152392e+00,\n",
       "       3.00000000e+00])\n",
       " t_events: None\n",
       "        y: array([[ 0.00000000e+00,  5.25102492e-04,  5.77268199e-03,\n",
       "         5.79054511e-02,  5.46398173e-01,  2.26196741e+00,\n",
       "         3.33632083e+00,  3.90853999e+00,  4.11215636e+00],\n",
       "       [ 0.00000000e+00,  1.31267178e-03,  1.44214906e-02,\n",
       "         1.43727660e-01,  1.26621168e+00,  3.19243735e+00,\n",
       "         4.93895011e-01, -5.69136256e+00, -1.09773477e+01],\n",
       "       [ 4.00000000e+00,  3.99952263e+00,  3.99475211e+00,\n",
       "         3.94735868e+00,  3.50327439e+00,  1.94366599e+00,\n",
       "         9.66981062e-01,  4.46781824e-01,  2.61676034e-01],\n",
       "       [ 1.00000000e+01,  9.99752008e+00,  9.97273720e+00,\n",
       "         9.72652835e+00,  7.41951045e+00, -6.82655196e-01,\n",
       "        -5.75653338e+00, -8.45896843e+00, -9.42059300e+00]])"
      ]
     },
     "execution_count": 80,
     "metadata": {},
     "output_type": "execute_result"
    }
   ],
   "source": []
  },
  {
   "cell_type": "code",
   "execution_count": 81,
   "metadata": {},
   "outputs": [
    {
     "data": {
      "text/plain": [
       "9"
      ]
     },
     "execution_count": 81,
     "metadata": {},
     "output_type": "execute_result"
    }
   ],
   "source": [
    "len(v.y[0])"
   ]
  },
  {
   "cell_type": "code",
   "execution_count": 82,
   "metadata": {},
   "outputs": [
    {
     "data": {
      "text/plain": [
       "4"
      ]
     },
     "execution_count": 82,
     "metadata": {},
     "output_type": "execute_result"
    }
   ],
   "source": [
    "len(v.y)"
   ]
  },
  {
   "cell_type": "code",
   "execution_count": null,
   "metadata": {},
   "outputs": [],
   "source": []
  }
 ],
 "metadata": {
  "kernelspec": {
   "display_name": "Python 3",
   "language": "python",
   "name": "python3"
  },
  "language_info": {
   "codemirror_mode": {
    "name": "ipython",
    "version": 3
   },
   "file_extension": ".py",
   "mimetype": "text/x-python",
   "name": "python",
   "nbconvert_exporter": "python",
   "pygments_lexer": "ipython3",
   "version": "3.6.5"
  }
 },
 "nbformat": 4,
 "nbformat_minor": 2
}
